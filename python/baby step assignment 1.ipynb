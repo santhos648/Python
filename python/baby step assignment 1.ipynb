{
 "cells": [
  {
   "cell_type": "code",
   "execution_count": 2,
   "id": "026e6447-7b9b-413d-b5a5-8210bff2469e",
   "metadata": {},
   "outputs": [
    {
     "name": "stdout",
     "output_type": "stream",
     "text": [
      "the addition of 2 numbers\n",
      "enter the num1 : 10\n",
      "enter the num2 : 30\n",
      "the answer is : 40\n"
     ]
    }
   ],
   "source": [
    "\"\"\" 1. num1=10\n",
    "       num2=30\n",
    "       add=40    \"\"\"\n",
    "\n",
    "print(\"the addition of 2 numbers\")\n",
    "num1=10\n",
    "print(\"enter the num1 :\",num1)\n",
    "num2=30\n",
    "print(\"enter the num2 :\",num2) \n",
    "print(\"the answer is :\",num1+num2)"
   ]
  },
  {
   "cell_type": "code",
   "execution_count": 1,
   "id": "343d864a-93a6-4ecf-9dd0-22e2047c3a34",
   "metadata": {},
   "outputs": [
    {
     "data": {
      "text/plain": [
       "' under weight  <18.5\\n    normal        18.5-24.9\\n    over weight   25-29.9\\n    obesity\\n       mild       30-34.9\\n       moderate   35-39.9\\n       morbid     <40     '"
      ]
     },
     "execution_count": 1,
     "metadata": {},
     "output_type": "execute_result"
    }
   ],
   "source": [
    "# 2. body mass index\n",
    "\n",
    "\"\"\" under weight  <18.5\n",
    "    normal        18.5-24.9\n",
    "    over weight   25-29.9\n",
    "    obesity\n",
    "       mild       30-34.9\n",
    "       moderate   35-39.9\n",
    "       morbid     <40     \"\"\"\n",
    "\n",
    "\n"
   ]
  },
  {
   "cell_type": "code",
   "execution_count": 6,
   "id": "53ab3eab-eed1-42cf-aa0b-c3582fddfd11",
   "metadata": {},
   "outputs": [
    {
     "name": "stdin",
     "output_type": "stream",
     "text": [
      "Enter the BMI for both males and females:  18.5\n"
     ]
    },
    {
     "name": "stdout",
     "output_type": "stream",
     "text": [
      "Normal weight\n"
     ]
    }
   ],
   "source": [
    "bmi = float(input(\"Enter the BMI for both males and females: \"))\n",
    "\n",
    "if bmi < 18.5:\n",
    "    print(\"Underweight\")\n",
    "elif 18.5 <= bmi <= 24.9:\n",
    "    print(\"Normal weight\")\n",
    "elif 25 <= bmi <= 29.9:\n",
    "    print(\"Overweight\")\n",
    "elif 30 <= bmi <= 34.9:\n",
    "    print(\"Obesity (Mild)\")\n",
    "elif 35 <= bmi <= 39.9:\n",
    "    print(\"Obesity (Moderate)\")\n",
    "else:\n",
    "    print(\"Obesity (Morbid)\")\n",
    "\n"
   ]
  },
  {
   "cell_type": "code",
   "execution_count": 7,
   "id": "1b0a8b52-f58d-41c0-9ef9-0a592c43b3b4",
   "metadata": {},
   "outputs": [
    {
     "name": "stdout",
     "output_type": "stream",
     "text": [
      "welcome to the assignment 1\n"
     ]
    }
   ],
   "source": [
    "# 3. welcome to the assignment 1\n",
    "\n",
    "print(\"welcome to the assignment 1\")"
   ]
  },
  {
   "cell_type": "code",
   "execution_count": null,
   "id": "a42ab28f-0951-4dd9-9ee6-2387143727f2",
   "metadata": {},
   "outputs": [],
   "source": []
  }
 ],
 "metadata": {
  "kernelspec": {
   "display_name": "Python 3 (ipykernel)",
   "language": "python",
   "name": "python3"
  },
  "language_info": {
   "codemirror_mode": {
    "name": "ipython",
    "version": 3
   },
   "file_extension": ".py",
   "mimetype": "text/x-python",
   "name": "python",
   "nbconvert_exporter": "python",
   "pygments_lexer": "ipython3",
   "version": "3.13.0"
  }
 },
 "nbformat": 4,
 "nbformat_minor": 5
}
