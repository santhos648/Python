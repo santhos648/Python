{
 "cells": [
  {
   "cell_type": "code",
   "execution_count": 5,
   "id": "8b2b2697-2e65-41df-b967-719ca7feb6c3",
   "metadata": {},
   "outputs": [
    {
     "name": "stdin",
     "output_type": "stream",
     "text": [
      "enter the user age :  23\n"
     ]
    },
    {
     "name": "stdout",
     "output_type": "stream",
     "text": [
      " adult\n"
     ]
    }
   ],
   "source": [
    "# conditional startements( if condition true it will work if false it wont)\n",
    "\n",
    "# if(condition) statement\n",
    "\n",
    " \n",
    "\n",
    "\n",
    "age=int(input(\"enter the user age : \"))\n",
    "if(age<18):\n",
    "    print(\"minor\")\n",
    "if(age==18):\n",
    "    print( \" just become an adult\")\n",
    "if(age>18):\n",
    "    print( \" adult\")"
   ]
  },
  {
   "cell_type": "code",
   "execution_count": 1,
   "id": "02c40e12-6503-43f5-bc41-d8e36996c502",
   "metadata": {
    "scrolled": true
   },
   "outputs": [
    {
     "name": "stdin",
     "output_type": "stream",
     "text": [
      "enter the age :  34\n"
     ]
    },
    {
     "name": "stdout",
     "output_type": "stream",
     "text": [
      "adult\n"
     ]
    }
   ],
   "source": [
    "age =int(input(\"enter the age : \"))\n",
    "age=18\n",
    "if(age == 18):\n",
    "    print(\"adult\")\n",
    "    # if statement is a single condition\n",
    "    # ==is comparing ok for examamle the upper code\n",
    "    # name error comes in 2 ways only one is spelling mistake and other is variable is not defined"
   ]
  },
  {
   "cell_type": "code",
   "execution_count": 2,
   "id": "d3914959-914f-44c4-85dd-4c49ae7e5ecb",
   "metadata": {},
   "outputs": [
    {
     "name": "stdin",
     "output_type": "stream",
     "text": [
      "enter the user age: 45\n"
     ]
    }
   ],
   "source": [
    "# if else statement\n",
    "\n",
    "if():\n",
    "    # this condition is proved print statemnet will work\n",
    "    print()\n",
    "else:\n",
    "    # if statement is worng else part start work this else part has no conditions \n",
    "    \n",
    "    age = int(input(\"enter the user age:\"))"
   ]
  },
  {
   "cell_type": "code",
   "execution_count": 3,
   "id": "1faa0b64-40d2-468c-9ca3-f986db3527dc",
   "metadata": {},
   "outputs": [
    {
     "name": "stdout",
     "output_type": "stream",
     "text": [
      "adult\n"
     ]
    }
   ],
   "source": [
    "# age < 18 is children age >18 is all adults\n",
    "if age<18:\n",
    "    print(\"children\")\n",
    "else:\n",
    "    print(\"adult\")\n",
    "\n",
    "    # unga logic correct aa lialua nu compiler la execue panrathu befor u need to excecte in note first its very important\n"
   ]
  },
  {
   "cell_type": "code",
   "execution_count": 4,
   "id": "a45119c6-1b49-4218-b302-a4115f0adf2e",
   "metadata": {},
   "outputs": [
    {
     "name": "stdout",
     "output_type": "stream",
     "text": [
      "\n"
     ]
    }
   ],
   "source": [
    "# if elif statement(multiple lines )\n",
    "\n",
    "if():\n",
    "    print()\n",
    "elif():\n",
    "    print()\n",
    "elif():\n",
    "     print()\n",
    "else:\n",
    "    print()\n",
    "\n",
    "\n",
    "    \n"
   ]
  },
  {
   "cell_type": "code",
   "execution_count": 5,
   "id": "5be79fde-b906-457f-b6f3-172baca46aa2",
   "metadata": {},
   "outputs": [
    {
     "data": {
      "text/plain": [
       "'age <18-->children\\nage<35-->aduts\\nage<59-->citizen\\nage>59-->senior citizen '"
      ]
     },
     "execution_count": 5,
     "metadata": {},
     "output_type": "execute_result"
    }
   ],
   "source": [
    "\"\"\"age <18-->children\n",
    "age<35-->aduts\n",
    "age<59-->citizen\n",
    "age>59-->senior citizen \"\"\""
   ]
  },
  {
   "cell_type": "code",
   "execution_count": 2,
   "id": "1d8c245a-7743-4289-ac9d-3d0596d10bac",
   "metadata": {},
   "outputs": [
    {
     "name": "stdin",
     "output_type": "stream",
     "text": [
      "enter the user age: 23\n"
     ]
    },
    {
     "name": "stdout",
     "output_type": "stream",
     "text": [
      "adults\n"
     ]
    }
   ],
   "source": [
    "age=int(input(\"enter the user age:\"))\n",
    "if age<18:\n",
    "    print(\"children\")\n",
    "elif(age<35):\n",
    "    print(\"adults\")\n",
    "elif(age<59):\n",
    "    print(\"citizen\")\n",
    "else:\n",
    "    print(\"senior citizen\")\n",
    "\n",
    "    "
   ]
  },
  {
   "cell_type": "code",
   "execution_count": 8,
   "id": "eead31bf-a75b-4b47-9c55-577d9f6ea4bc",
   "metadata": {},
   "outputs": [
    {
     "data": {
      "text/plain": [
       "' if u want to check single input in multiple conditions means then only wee need to go to if family\\n\\n\\nsingle condition -->if statement\\ntwo condition --> if else\\nmore then 2 condition-->if elif '"
      ]
     },
     "execution_count": 8,
     "metadata": {},
     "output_type": "execute_result"
    }
   ],
   "source": [
    " \"\"\" if u want to check single input in multiple conditions means then only wee need to go to if family\n",
    "\n",
    "\n",
    "single condition -->if statement\n",
    "two condition --> if else\n",
    "more then 2 condition-->if elif \"\"\"\n",
    "\n",
    "\n"
   ]
  },
  {
   "cell_type": "code",
   "execution_count": null,
   "id": "0fd6b4e0-47d4-43c3-b9be-b0b95a9bb76f",
   "metadata": {},
   "outputs": [],
   "source": [
    "# tell to mam your way of if statements approach is right or wrong ok cool"
   ]
  },
  {
   "cell_type": "code",
   "execution_count": 3,
   "id": "b14d67c1-c3c1-4dca-99df-e696ab1ec38e",
   "metadata": {},
   "outputs": [],
   "source": [
    "list=[23,45,67,34,89]"
   ]
  },
  {
   "cell_type": "code",
   "execution_count": 4,
   "id": "2095dd90-ef05-4236-aff3-ac4c06383579",
   "metadata": {},
   "outputs": [
    {
     "name": "stdout",
     "output_type": "stream",
     "text": [
      "23\n",
      "45\n",
      "67\n",
      "34\n",
      "89\n"
     ]
    }
   ],
   "source": [
    "# for loop\n",
    "\n",
    "# multiple inputs one condition\n",
    "for temp in list:\n",
    "    print(temp)"
   ]
  },
  {
   "cell_type": "code",
   "execution_count": 5,
   "id": "c699a5de-0949-4faf-bbb4-29c43c05419b",
   "metadata": {
    "scrolled": true
   },
   "outputs": [
    {
     "name": "stdout",
     "output_type": "stream",
     "text": [
      "adults\n",
      "citizen\n",
      "senior citizen\n",
      "adults\n",
      "senior citizen\n"
     ]
    }
   ],
   "source": [
    "for age in list:\n",
    "    if age<18:\n",
    "       print(\"children\")\n",
    "    elif(age<35):\n",
    "       print(\"adults\")\n",
    "    elif(age<59):\n",
    "       print(\"citizen\")\n",
    "    else:\n",
    "      print(\"senior citizen\")\n",
    "# multiple inputs one set of procedure la condition mudiyura virikum loop la podanum\n",
    "# if statement single inputs aa multiple condition la check panitu varanum\n",
    "    "
   ]
  },
  {
   "cell_type": "code",
   "execution_count": null,
   "id": "ea938646-2f0d-4d2a-bbec-0342113a6963",
   "metadata": {},
   "outputs": [],
   "source": [
    "# extra hands on if statements and for loops"
   ]
  },
  {
   "cell_type": "code",
   "execution_count": 10,
   "id": "26ff11a2-49d8-4f01-b80d-f0b49cae5765",
   "metadata": {},
   "outputs": [
    {
     "name": "stdin",
     "output_type": "stream",
     "text": [
      "enter the number: 21\n"
     ]
    },
    {
     "name": "stdout",
     "output_type": "stream",
     "text": [
      "odd number\n"
     ]
    }
   ],
   "source": [
    "# find odd or even\n",
    "\n",
    "num=int(input(\"enter the number:\"))\n",
    "if(num%2==0):\n",
    "    print(\"even number\")\n",
    "else:\n",
    "    print(\"odd number\")\n",
    "\n",
    "    # mam now this problem mam give the hint i write the code but i cant able to think logicall and write my code mam\n",
    "\n",
    "# doubt ( actually what is logic )"
   ]
  },
  {
   "cell_type": "code",
   "execution_count": 12,
   "id": "b88dcede-39d5-4795-a6b5-1a22af556022",
   "metadata": {},
   "outputs": [
    {
     "data": {
      "text/plain": [
       "range(0, 10)"
      ]
     },
     "execution_count": 12,
     "metadata": {},
     "output_type": "execute_result"
    }
   ],
   "source": [
    "# range\n",
    "\n",
    "range(0,10)\n",
    "#(start,stop,step)"
   ]
  },
  {
   "cell_type": "code",
   "execution_count": 16,
   "id": "7f856848-ab85-46bb-86d9-4f394fe252e4",
   "metadata": {},
   "outputs": [
    {
     "name": "stdout",
     "output_type": "stream",
     "text": [
      "0\n",
      "1\n",
      "2\n",
      "3\n",
      "4\n",
      "5\n",
      "6\n",
      "7\n",
      "8\n",
      "9\n"
     ]
    }
   ],
   "source": [
    "\n",
    "for num in range(0,10):\n",
    "    print(num)"
   ]
  },
  {
   "cell_type": "code",
   "execution_count": 2,
   "id": "e65bd50a-3b3f-46c5-ab2d-137f64ea5f9b",
   "metadata": {},
   "outputs": [
    {
     "name": "stdout",
     "output_type": "stream",
     "text": [
      "20\n",
      "22\n",
      "24\n",
      "26\n",
      "28\n"
     ]
    }
   ],
   "source": [
    "for num in range(20,30,2):\n",
    "    print(num)"
   ]
  },
  {
   "cell_type": "code",
   "execution_count": 13,
   "id": "8f51fee2-45f6-4e32-8a49-a249efeea760",
   "metadata": {},
   "outputs": [
    {
     "name": "stdin",
     "output_type": "stream",
     "text": [
      "enter the number : 45\n"
     ]
    },
    {
     "name": "stdout",
     "output_type": "stream",
     "text": [
      "odd\n"
     ]
    }
   ],
   "source": [
    "num=int(input(\"enter the number :\"))\n",
    "if (num%2==0):\n",
    "    print(\"even\")\n",
    "else:\n",
    "    print(\"odd"
   ]
  },
  {
   "cell_type": "code",
   "execution_count": 33,
   "id": "a64c7315-516e-4eb4-a896-4da8206fedbc",
   "metadata": {},
   "outputs": [
    {
     "data": {
      "text/plain": [
       "' Print each letter in the word \"PYTHON\" on a new line.\\n3️⃣ Find the sum of numbers in a list [10, 20, 30, 40, 50] using a for loop. '"
      ]
     },
     "execution_count": 33,
     "metadata": {},
     "output_type": "execute_result"
    }
   ],
   "source": [
    "\"\"\" Print each letter in the word \"PYTHON\" on a new line.\n",
    "3️⃣ Find the sum of numbers in a list [10, 20, 30, 40, 50] using a for loop. \"\"\"\n",
    "\n"
   ]
  },
  {
   "cell_type": "code",
   "execution_count": 37,
   "id": "7c2f8e29-103c-4f3f-830a-8a9666bf5e4b",
   "metadata": {},
   "outputs": [
    {
     "name": "stdout",
     "output_type": "stream",
     "text": [
      "10\n",
      "20\n",
      "30\n",
      "40\n",
      "50\n"
     ]
    }
   ],
   "source": [
    "list=[10,20,30,40,50]\n",
    "for temp in list:\n",
    "    print(temp)\n",
    "\n"
   ]
  },
  {
   "cell_type": "code",
   "execution_count": null,
   "id": "ae7177c0-0f94-44a2-a984-0bb2fd6b536f",
   "metadata": {},
   "outputs": [],
   "source": []
  }
 ],
 "metadata": {
  "kernelspec": {
   "display_name": "Python 3 (ipykernel)",
   "language": "python",
   "name": "python3"
  },
  "language_info": {
   "codemirror_mode": {
    "name": "ipython",
    "version": 3
   },
   "file_extension": ".py",
   "mimetype": "text/x-python",
   "name": "python",
   "nbconvert_exporter": "python",
   "pygments_lexer": "ipython3",
   "version": "3.13.0"
  }
 },
 "nbformat": 4,
 "nbformat_minor": 5
}
