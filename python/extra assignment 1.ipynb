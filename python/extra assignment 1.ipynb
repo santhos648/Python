{
 "cells": [
  {
   "cell_type": "code",
   "execution_count": 1,
   "id": "76f89626-dcf7-4c82-9a57-4e627b7e8955",
   "metadata": {},
   "outputs": [
    {
     "name": "stdout",
     "output_type": "stream",
     "text": [
      "HOPE AI\n"
     ]
    }
   ],
   "source": [
    "\n",
    "# extra assignment 1\n",
    "\n",
    "# 1. print statement\n",
    "\n",
    "print(\"HOPE AI\")\n",
    "\n",
    "\n",
    "\n"
   ]
  },
  {
   "cell_type": "code",
   "execution_count": 2,
   "id": "758b7999-3b1a-484b-aa67-fc8b7229cc32",
   "metadata": {},
   "outputs": [
    {
     "name": "stdin",
     "output_type": "stream",
     "text": [
      "enter the institut name :  HOPE AI\n"
     ]
    }
   ],
   "source": [
    "# 2. buy input\n",
    "\n",
    "institute_name=input(\"enter the institut name : \" )"
   ]
  },
  {
   "cell_type": "code",
   "execution_count": 3,
   "id": "9d7e0219-8dba-48bb-9c36-3d82d81c99ef",
   "metadata": {},
   "outputs": [
    {
     "name": "stdin",
     "output_type": "stream",
     "text": [
      "enter the name : santhosh kumar\n",
      "enter the user age :  20\n",
      "enter the school name :  srm\n",
      " enter the degree :  cse ai\n"
     ]
    }
   ],
   "source": [
    "3. #3 buy inputs \n",
    "name =input(\"enter the name :\")\n",
    "age=int(input(\"enter the user age : \"))\n",
    "school_name=input(\"enter the school name : \")\n",
    "degree=input(\" enter the degree : \" )      "
   ]
  },
  {
   "cell_type": "code",
   "execution_count": 4,
   "id": "47a0522a-5722-4d24-af7f-55772f14921b",
   "metadata": {},
   "outputs": [
    {
     "name": "stdout",
     "output_type": "stream",
     "text": [
      "enter the number 1 :  43\n",
      "enter the number 2 :  34\n",
      "the addition of two numbers :  77\n"
     ]
    }
   ],
   "source": [
    "#  4 . addition\n",
    "num1=43\n",
    "print( \"enter the number 1 : \",num1)\n",
    "num2=34\n",
    "print(\"enter the number 2 : \",num2)\n",
    "print(\"the addition of two numbers : \",num1+num2)"
   ]
  },
  {
   "cell_type": "code",
   "execution_count": 5,
   "id": "2a8819a5-c77d-4c8c-82d1-cd01460cd097",
   "metadata": {},
   "outputs": [
    {
     "name": "stdout",
     "output_type": "stream",
     "text": [
      "enter the number 1 :  43\n",
      "enter the number 2 :  34\n",
      "the substraction of two numbers :  9\n"
     ]
    }
   ],
   "source": [
    "# 5. substraction \n",
    "\n",
    "num1=43\n",
    "print( \"enter the number 1 : \",num1)\n",
    "num2=34\n",
    "print(\"enter the number 2 : \",num2)\n",
    "print(\"the substraction of two numbers : \",num1-num2)\n"
   ]
  },
  {
   "cell_type": "code",
   "execution_count": 6,
   "id": "e6842598-f167-44c8-a041-55bcd3177d37",
   "metadata": {},
   "outputs": [
    {
     "name": "stdout",
     "output_type": "stream",
     "text": [
      "enter the number 1 :  63\n",
      "enter the number 2 :  97\n",
      "the multiplication of two numbers :  6111\n"
     ]
    }
   ],
   "source": [
    "#6. multiplication\n",
    "\n",
    "num1=63\n",
    "print( \"enter the number 1 : \",num1)\n",
    "num2=97\n",
    "print(\"enter the number 2 : \",num2)\n",
    "print(\"the multiplication of two numbers : \",num1*num2)\n",
    "\n"
   ]
  },
  {
   "cell_type": "code",
   "execution_count": 7,
   "id": "1c49b75e-bf31-46ee-ac48-c4f9ab297b0a",
   "metadata": {},
   "outputs": [
    {
     "name": "stdout",
     "output_type": "stream",
     "text": [
      "enter the number 1 :  76\n",
      "enter the number 2 :  31\n",
      "the division of two numbers :  2.4516129032258065\n"
     ]
    }
   ],
   "source": [
    "#7 division\n",
    "\n",
    "num1=76\n",
    "print( \"enter the number 1 : \",num1)\n",
    "num2=31\n",
    "print(\"enter the number 2 : \",num2)\n",
    "print(\"the division of two numbers : \",num1/num2)\n",
    "\n"
   ]
  },
  {
   "cell_type": "code",
   "execution_count": 8,
   "id": "800d5548-1c98-4fc5-b667-211962cb7c05",
   "metadata": {},
   "outputs": [
    {
     "name": "stdout",
     "output_type": "stream",
     "text": [
      "enter the number 1 :  76\n",
      "enter the number 2 :  31\n",
      "the division of two numbers :  2\n"
     ]
    }
   ],
   "source": [
    "# 8. floor division\n",
    "\n",
    "num1=76\n",
    "print( \"enter the number 1 : \",num1)\n",
    "num2=31\n",
    "print(\"enter the number 2 : \",num2)\n",
    "print(\"the division of two numbers : \",num1//num2)\n",
    "\n"
   ]
  },
  {
   "cell_type": "code",
   "execution_count": 9,
   "id": "900e5999-ac55-49e1-9473-66e90ec9e62b",
   "metadata": {},
   "outputs": [],
   "source": [
    "# 9. module \n",
    "\n"
   ]
  },
  {
   "cell_type": "code",
   "execution_count": 10,
   "id": "78cc4cfe-cd90-48ed-ba5b-a2be62514922",
   "metadata": {},
   "outputs": [
    {
     "name": "stdout",
     "output_type": "stream",
     "text": [
      "enter the number 1 :  4\n",
      "enter the number 2 :  4\n",
      "the division of two numbers :  256\n"
     ]
    }
   ],
   "source": [
    "# 10. power \n",
    "num1=4\n",
    "print( \"enter the number 1 : \",num1)\n",
    "num2=4\n",
    "print(\"enter the number 2 : \",num2)\n",
    "print(\"the division of two numbers : \",num1**num2)\n",
    "\n",
    "\n"
   ]
  },
  {
   "cell_type": "code",
   "execution_count": null,
   "id": "c501722f-7e24-4415-b309-a257857ed42b",
   "metadata": {},
   "outputs": [],
   "source": []
  }
 ],
 "metadata": {
  "kernelspec": {
   "display_name": "Python 3 (ipykernel)",
   "language": "python",
   "name": "python3"
  },
  "language_info": {
   "codemirror_mode": {
    "name": "ipython",
    "version": 3
   },
   "file_extension": ".py",
   "mimetype": "text/x-python",
   "name": "python",
   "nbconvert_exporter": "python",
   "pygments_lexer": "ipython3",
   "version": "3.13.0"
  }
 },
 "nbformat": 4,
 "nbformat_minor": 5
}
