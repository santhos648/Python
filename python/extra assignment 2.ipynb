{
 "cells": [
  {
   "cell_type": "code",
   "execution_count": 1,
   "id": "c657d25c-9408-45c2-9661-7b59c00c7b21",
   "metadata": {},
   "outputs": [
    {
     "name": "stdout",
     "output_type": "stream",
     "text": [
      "0\n",
      "1\n",
      "2\n",
      "3\n",
      "4\n",
      "5\n",
      "6\n",
      "7\n",
      "8\n",
      "9\n",
      "10\n",
      "11\n",
      "12\n",
      "13\n",
      "14\n",
      "15\n",
      "16\n",
      "17\n",
      "18\n",
      "19\n"
     ]
    }
   ],
   "source": [
    "# 1. print 0 to 20 using range\n",
    "\n",
    "for num in range(0,20):\n",
    "    print(num)\n"
   ]
  },
  {
   "cell_type": "code",
   "execution_count": 2,
   "id": "b34e01e3-c3d0-49a0-ad84-23070ae46ccb",
   "metadata": {},
   "outputs": [
    {
     "name": "stdout",
     "output_type": "stream",
     "text": [
      "10\n",
      "11\n",
      "12\n",
      "13\n",
      "14\n",
      "15\n",
      "16\n",
      "17\n",
      "18\n",
      "19\n"
     ]
    }
   ],
   "source": [
    "# 2 . print range 10 to 20\n",
    "\n",
    "for num in range(10,20):\n",
    "    print(num)"
   ]
  },
  {
   "cell_type": "code",
   "execution_count": 5,
   "id": "52001835-6dd4-48db-ade6-d901caf465f2",
   "metadata": {},
   "outputs": [
    {
     "name": "stdout",
     "output_type": "stream",
     "text": [
      "7\n",
      "13\n",
      "5\n",
      "3\n",
      "3\n",
      "3\n",
      "9\n"
     ]
    }
   ],
   "source": [
    "# 3 . print the number of items lists by using 'len' \n",
    "list=[10,20,14,55,43,87,76]\n",
    "print(len(list))\n",
    "\n",
    "# len is like number of items it add how many itsem in that\n",
    "#example\n",
    "string_example = \"Hello, world!\"\n",
    "list_example = [1, 2, 3, 4, 5]\n",
    "tuple_example = (10, 20, 30)\n",
    "dict_example = {\"a\": 1, \"b\": 2, \"c\": 3}\n",
    "set_example = {1, 2, 3}\n",
    "range_example = range(1, 10)\n",
    "\n",
    "print(len(string_example))  \n",
    "print(len(list_example))    \n",
    "print(len(tuple_example))   \n",
    "print(len(dict_example))    \n",
    "print(len(set_example))     \n",
    "print(len(range_example))   \n"
   ]
  },
  {
   "cell_type": "code",
   "execution_count": null,
   "id": "ed1b00ab-f351-4b27-9319-15f82757b0da",
   "metadata": {},
   "outputs": [],
   "source": []
  }
 ],
 "metadata": {
  "kernelspec": {
   "display_name": "Python 3 (ipykernel)",
   "language": "python",
   "name": "python3"
  },
  "language_info": {
   "codemirror_mode": {
    "name": "ipython",
    "version": 3
   },
   "file_extension": ".py",
   "mimetype": "text/x-python",
   "name": "python",
   "nbconvert_exporter": "python",
   "pygments_lexer": "ipython3",
   "version": "3.13.0"
  }
 },
 "nbformat": 4,
 "nbformat_minor": 5
}
