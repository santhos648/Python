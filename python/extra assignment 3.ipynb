{
 "cells": [
  {
   "cell_type": "code",
   "execution_count": null,
   "id": "1a496812-7a75-45ca-9612-7ab63b12c61f",
   "metadata": {},
   "outputs": [],
   "source": [
    "#extra assignment 3"
   ]
  },
  {
   "cell_type": "code",
   "execution_count": 1,
   "id": "4cbcf438-9637-46fd-aadc-919ad64d3680",
   "metadata": {},
   "outputs": [
    {
     "name": "stdout",
     "output_type": "stream",
     "text": [
      "correct\n"
     ]
    }
   ],
   "source": [
    "#1.\n",
    "i = 10\n",
    "if i == 10:\n",
    "    print(\"correct\")"
   ]
  },
  {
   "cell_type": "code",
   "execution_count": 5,
   "id": "b5f5b415-bb84-4658-b546-db02e3d5c410",
   "metadata": {},
   "outputs": [
    {
     "name": "stdin",
     "output_type": "stream",
     "text": [
      "enter the password : HOPE@123\n"
     ]
    }
   ],
   "source": [
    "# 2 .\n",
    "\n",
    "passowrd=input(\"enter the password :\")\n"
   ]
  },
  {
   "cell_type": "code",
   "execution_count": 7,
   "id": "c5c71d16-515e-459e-b666-a77f057647c9",
   "metadata": {},
   "outputs": [
    {
     "name": "stdout",
     "output_type": "stream",
     "text": [
      " the password is wrong :\n"
     ]
    }
   ],
   "source": [
    "if(passowrd==\"hope@123\"):\n",
    "    print(\" the passowrd is right :\")\n",
    "else:\n",
    "    print(\" the password is wrong :\")"
   ]
  },
  {
   "cell_type": "code",
   "execution_count": 8,
   "id": "1d6c08d5-7cf3-4f26-bab0-c7d181e2b706",
   "metadata": {},
   "outputs": [
    {
     "data": {
      "text/plain": [
       "'age <18-->children\\nage<35-->aduts\\nage<59-->citizen\\nage>59-->senior citizen '"
      ]
     },
     "execution_count": 8,
     "metadata": {},
     "output_type": "execute_result"
    }
   ],
   "source": [
    "# 3 .\n",
    "\n",
    "\"\"\"age <18-->children\n",
    "age<35-->aduts\n",
    "age<59-->citizen\n",
    "age>59-->senior citizen \"\"\""
   ]
  },
  {
   "cell_type": "code",
   "execution_count": 9,
   "id": "31e3bc2c-523a-4f7e-9010-10065807c82a",
   "metadata": {},
   "outputs": [
    {
     "name": "stdin",
     "output_type": "stream",
     "text": [
      "enter the user age: 20\n"
     ]
    },
    {
     "name": "stdout",
     "output_type": "stream",
     "text": [
      "adults\n"
     ]
    }
   ],
   "source": [
    "age=int(input(\"enter the user age:\"))\n",
    "if age<18:\n",
    "    print(\"children\")\n",
    "elif(age<35):\n",
    "    print(\"adults\")\n",
    "elif(age<59):\n",
    "    print(\"citizen\")\n",
    "else:\n",
    "    print(\"senior citizen\")"
   ]
  },
  {
   "cell_type": "code",
   "execution_count": null,
   "id": "3c4094e6-1743-422d-ba61-0a17e255657e",
   "metadata": {},
   "outputs": [],
   "source": [
    "# 4 .\n",
    "\n"
   ]
  },
  {
   "cell_type": "code",
   "execution_count": 10,
   "id": "8df6243b-2d32-44a9-9fab-f15132298493",
   "metadata": {},
   "outputs": [
    {
     "name": "stdin",
     "output_type": "stream",
     "text": [
      "Enter a number to check:  22\n"
     ]
    },
    {
     "name": "stdout",
     "output_type": "stream",
     "text": [
      "No is not divisible by 5\n"
     ]
    }
   ],
   "source": [
    "# 5 .\n",
    "num = int(input(\"Enter a number to check: \"))  \n",
    "if num % 5 == 0:  \n",
    "    print(\"No is divisible by 5\")  \n",
    "else:  \n",
    "    print(\"No is not divisible by 5\")  \n",
    "\n",
    "\n"
   ]
  },
  {
   "cell_type": "code",
   "execution_count": null,
   "id": "62b8b519-6993-42e9-a568-593a7e326dd6",
   "metadata": {},
   "outputs": [],
   "source": []
  }
 ],
 "metadata": {
  "kernelspec": {
   "display_name": "Python 3 (ipykernel)",
   "language": "python",
   "name": "python3"
  },
  "language_info": {
   "codemirror_mode": {
    "name": "ipython",
    "version": 3
   },
   "file_extension": ".py",
   "mimetype": "text/x-python",
   "name": "python",
   "nbconvert_exporter": "python",
   "pygments_lexer": "ipython3",
   "version": "3.13.0"
  }
 },
 "nbformat": 4,
 "nbformat_minor": 5
}
