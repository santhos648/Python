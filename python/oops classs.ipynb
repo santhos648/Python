{
 "cells": [
  {
   "cell_type": "code",
   "execution_count": 5,
   "id": "e4ff7b38-67c0-42e1-9119-86ea95cd08ce",
   "metadata": {},
   "outputs": [
    {
     "name": "stdout",
     "output_type": "stream",
     "text": [
      "addition: 2\n",
      "substraction: 0\n",
      "multiplication: 4\n"
     ]
    }
   ],
   "source": [
    "# class ( group of functions )\n",
    "\n",
    "class calculator():\n",
    "    def addition(a,b):\n",
    "        addition=a+b\n",
    "        return addition\n",
    "    def substraction(a,b):\n",
    "        sub=a-b\n",
    "        return sub\n",
    "    def multiplication(a,b):\n",
    "        mul=a*b\n",
    "        return mul\n",
    "\n",
    "\n",
    "# call for function\n",
    "result1=calculator.addition(1,1)\n",
    "print(\"addition:\",result1)\n",
    "\n",
    "result2=calculator.substraction(1,1)\n",
    "print(\"substraction:\",result2)\n",
    "\n",
    "result3=calculator.multiplication(2,2)\n",
    "print(\"multiplication:\",result3)\n",
    "\n",
    "\n",
    "        \n",
    "\n"
   ]
  },
  {
   "cell_type": "code",
   "execution_count": null,
   "id": "e49bda21-9752-459c-9eec-a23d92389997",
   "metadata": {},
   "outputs": [],
   "source": []
  },
  {
   "cell_type": "code",
   "execution_count": null,
   "id": "d99d452c-691a-4ae1-ab24-2c00abffac0f",
   "metadata": {},
   "outputs": [],
   "source": []
  }
 ],
 "metadata": {
  "kernelspec": {
   "display_name": "Python 3 (ipykernel)",
   "language": "python",
   "name": "python3"
  },
  "language_info": {
   "codemirror_mode": {
    "name": "ipython",
    "version": 3
   },
   "file_extension": ".py",
   "mimetype": "text/x-python",
   "name": "python",
   "nbconvert_exporter": "python",
   "pygments_lexer": "ipython3",
   "version": "3.13.0"
  }
 },
 "nbformat": 4,
 "nbformat_minor": 5
}
