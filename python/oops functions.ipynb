{
 "cells": [
  {
   "cell_type": "code",
   "execution_count": null,
   "id": "1ee43e1d-96a7-4f68-a264-0b861396adb3",
   "metadata": {},
   "outputs": [],
   "source": [
    "# oops\n",
    "#  1. functions\n",
    "\n",
    "def addition(a,b):\n",
    "    addition=a+b\n",
    "    return addition\n",
    "\n",
    "\"\"\" def function name ():\n",
    "           procedure\n",
    "           last what u want u need to return ( variable)\n",
    "    \n"
   ]
  },
  {
   "cell_type": "code",
   "execution_count": null,
   "id": "fda59f29-d219-4c8c-b3b5-b7717f02590c",
   "metadata": {},
   "outputs": [],
   "source": [
    "list=[23,45,67,34,89]"
   ]
  },
  {
   "cell_type": "code",
   "execution_count": null,
   "id": "952dd6f4-e34e-4340-badd-1047485a1b7c",
   "metadata": {},
   "outputs": [],
   "source": [
    "def agecategory():\n",
    "    \n",
    "    for age in list:\n",
    "        if(age<18):\n",
    "            print(\"children\")\n",
    "        elif(age<35):\n",
    "            print(\"adult\")\n",
    "        elif(age<59):\n",
    "            print(\"citizen\")\n",
    "        else:\n",
    "            print(\"senior citizen\")\n",
    "\n",
    "# its just a formula \n",
    "     "
   ]
  },
  {
   "cell_type": "code",
   "execution_count": null,
   "id": "c6985e89-5326-4672-95f0-f244388e445d",
   "metadata": {},
   "outputs": [],
   "source": [
    "agecategory()\n",
    "# function aa call panrom"
   ]
  },
  {
   "cell_type": "code",
   "execution_count": 13,
   "id": "bed94632-2c2c-456a-b561-fd7628c282e4",
   "metadata": {},
   "outputs": [
    {
     "name": "stdin",
     "output_type": "stream",
     "text": [
      "enter the user age 45\n"
     ]
    }
   ],
   "source": [
    "age=int(input(\"enter the user age\"))"
   ]
  },
  {
   "cell_type": "code",
   "execution_count": 11,
   "id": "0a737b20-679e-48db-af57-2a910d628f4f",
   "metadata": {},
   "outputs": [],
   "source": [
    "def agecatogery():\n",
    "    if(age<18):\n",
    "        print(\"children\")\n",
    "        category=\"childeen\"\n",
    "    elif(age<35):\n",
    "        print(\"adult\")\n",
    "        category=\"adult\"\n",
    "    elif(age<59):\n",
    "        print(\"citizen\")\n",
    "        category=\"citizen\"\n",
    "    else:\n",
    "        print(\"senior citizen\")\n",
    "        category=\"senior citizen\"\n",
    "    return category\n",
    "\n",
    "\n",
    "\n",
    "        \n",
    "    "
   ]
  },
  {
   "cell_type": "code",
   "execution_count": 15,
   "id": "82287aa3-98b0-4fc5-b790-7d700c9e2c47",
   "metadata": {},
   "outputs": [
    {
     "name": "stdout",
     "output_type": "stream",
     "text": [
      "citizen\n"
     ]
    },
    {
     "data": {
      "text/plain": [
       "'citizen'"
      ]
     },
     "execution_count": 15,
     "metadata": {},
     "output_type": "execute_result"
    }
   ],
   "source": [
    "agecatogery()"
   ]
  },
  {
   "cell_type": "code",
   "execution_count": 18,
   "id": "6b153b13-f4de-4bb6-a1fb-b5bbc166a4ad",
   "metadata": {},
   "outputs": [
    {
     "name": "stdout",
     "output_type": "stream",
     "text": [
      "citizen\n"
     ]
    }
   ],
   "source": [
    "print(agecate)"
   ]
  },
  {
   "cell_type": "code",
   "execution_count": null,
   "id": "bab885e5-d35c-4614-88bb-626fbe658505",
   "metadata": {},
   "outputs": [],
   "source": []
  }
 ],
 "metadata": {
  "kernelspec": {
   "display_name": "Python 3 (ipykernel)",
   "language": "python",
   "name": "python3"
  },
  "language_info": {
   "codemirror_mode": {
    "name": "ipython",
    "version": 3
   },
   "file_extension": ".py",
   "mimetype": "text/x-python",
   "name": "python",
   "nbconvert_exporter": "python",
   "pygments_lexer": "ipython3",
   "version": "3.13.0"
  }
 },
 "nbformat": 4,
 "nbformat_minor": 5
}
