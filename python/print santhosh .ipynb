{
 "cells": [
  {
   "cell_type": "code",
   "execution_count": 2,
   "id": "c7813b57-8a94-4d45-ba77-543c01749fac",
   "metadata": {},
   "outputs": [
    {
     "name": "stdout",
     "output_type": "stream",
     "text": [
      "santhosh\n"
     ]
    }
   ],
   "source": [
    "print(\"santhosh\")"
   ]
  },
  {
   "cell_type": "code",
   "execution_count": 3,
   "id": "81ca1dc9-a0cb-4264-b08b-121d6ca84a07",
   "metadata": {},
   "outputs": [
    {
     "name": "stdout",
     "output_type": "stream",
     "text": [
      "santhosh \n"
     ]
    }
   ],
   "source": [
    "print(\"santhosh \")"
   ]
  },
  {
   "cell_type": "code",
   "execution_count": null,
   "id": "8222475a-6229-4f74-9fb6-365c5a2f6c62",
   "metadata": {},
   "outputs": [],
   "source": []
  }
 ],
 "metadata": {
  "kernelspec": {
   "display_name": "Python 3 (ipykernel)",
   "language": "python",
   "name": "python3"
  },
  "language_info": {
   "codemirror_mode": {
    "name": "ipython",
    "version": 3
   },
   "file_extension": ".py",
   "mimetype": "text/x-python",
   "name": "python",
   "nbconvert_exporter": "python",
   "pygments_lexer": "ipython3",
   "version": "3.13.0"
  }
 },
 "nbformat": 4,
 "nbformat_minor": 5
}
