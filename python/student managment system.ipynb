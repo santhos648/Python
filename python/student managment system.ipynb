{
 "cells": [
  {
   "cell_type": "code",
   "execution_count": null,
   "id": "efbc7eb0-da2e-4f6a-834a-709a96bb2b1e",
   "metadata": {},
   "outputs": [
    {
     "name": "stdout",
     "output_type": "stream",
     "text": [
      "\n",
      "1. Add Student\n",
      "2. Display Students\n",
      "3. Remove Student\n",
      "4. Exit\n"
     ]
    }
   ],
   "source": [
    "class Student:\n",
    "    def __init__(self, name, roll_no, marks):\n",
    "        self.name = name\n",
    "        self.roll_no = roll_no\n",
    "        self.marks = marks\n",
    "\n",
    "    def display(self):\n",
    "        print(f\"Name: {self.name}, Roll No: {self.roll_no}, Marks: {self.marks}\")\n",
    "\n",
    "class StudentManagement:\n",
    "    def __init__(self):\n",
    "        self.students = []\n",
    "\n",
    "    def add_student(self, name, roll_no, marks):\n",
    "        student = Student(name, roll_no, marks)\n",
    "        self.students.append(student)\n",
    "        print(f\"Student {name} added successfully!\")\n",
    "\n",
    "    def display_students(self):\n",
    "        if not self.students:\n",
    "            print(\"No students found.\")\n",
    "            return\n",
    "        print(\"\\nStudent List:\")\n",
    "        for student in self.students:\n",
    "            student.display()\n",
    "\n",
    "    def remove_student(self, roll_no):\n",
    "        for student in self.students:\n",
    "            if student.roll_no == roll_no:\n",
    "                self.students.remove(student)\n",
    "                print(f\"Student with Roll No {roll_no} removed successfully!\")\n",
    "                return\n",
    "        print(f\"No student found with Roll No {roll_no}\")\n",
    "\n",
    "def main():\n",
    "    system = StudentManagement()\n",
    "\n",
    "    while True:\n",
    "        print(\"\\n1. Add Student\\n2. Display Students\\n3. Remove Student\\n4. Exit\")\n",
    "        choice = input(\"Enter choice: \")\n",
    "\n",
    "        if choice == \"1\":\n",
    "            name = input(\"Enter name: \")\n",
    "            roll_no = input(\"Enter roll number: \")\n",
    "            marks = input(\"Enter marks: \")\n",
    "            system.add_student(name, roll_no, marks)\n",
    "\n",
    "        elif choice == \"2\":\n",
    "            system.display_students()\n",
    "\n",
    "        elif choice == \"3\":\n",
    "            roll_no = input(\"Enter roll number to remove: \")\n",
    "            system.remove_student(roll_no)\n",
    "\n",
    "        elif choice == \"4\":\n",
    "            print(\"Exiting...!\")\n",
    "            break\n",
    "        else:\n",
    "            print(\"Invalid choice! Try again.\")\n",
    "\n",
    "if __name__ == \"__main__\":\n",
    "    main()\n"
   ]
  },
  {
   "cell_type": "code",
   "execution_count": null,
   "id": "a486bb23-f40e-4bd4-8663-7c66bf2ab527",
   "metadata": {},
   "outputs": [],
   "source": []
  }
 ],
 "metadata": {
  "kernelspec": {
   "display_name": "Python 3 (ipykernel)",
   "language": "python",
   "name": "python3"
  },
  "language_info": {
   "codemirror_mode": {
    "name": "ipython",
    "version": 3
   },
   "file_extension": ".py",
   "mimetype": "text/x-python",
   "name": "python",
   "nbconvert_exporter": "python",
   "pygments_lexer": "ipython3",
   "version": "3.13.0"
  }
 },
 "nbformat": 4,
 "nbformat_minor": 5
}
