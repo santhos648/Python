{
 "cells": [
  {
   "cell_type": "code",
   "execution_count": 1,
   "id": "23003787-0f8d-4642-b51f-a099d0a7447c",
   "metadata": {
    "scrolled": true
   },
   "outputs": [
    {
     "name": "stdout",
     "output_type": "stream",
     "text": [
      "40\n"
     ]
    }
   ],
   "source": [
    "# variables and assignment operators\n",
    "num1 =10\n",
    "num2 =30\n",
    "add=num1+num2\n",
    "print(add) \n",
    "# programming always execute line by line like 1st ( num1=10 correct,num2=30 correct ,add=40 correcct like that)"
   ]
  },
  {
   "cell_type": "code",
   "execution_count": null,
   "id": "31db31a8-81d7-49a9-8bc0-4368ed72305e",
   "metadata": {},
   "outputs": [],
   "source": [
    "#  1.always create a valuable variable names ok\n",
    "no a =5\n",
    "   b=10\n",
    "it should be like this\n",
    "num1 =10\n",
    "num2 =30\n",
    "add=num1+num2\n",
    "\n",
    "# first name =\"santhosh kumar \" ( no space between) first_name =\"santhosh kumar \"\n",
    "no space ok\n"
   ]
  },
  {
   "cell_type": "code",
   "execution_count": 2,
   "id": "f5a47685-7022-467a-9feb-d2d4c5c48269",
   "metadata": {},
   "outputs": [
    {
     "name": "stdout",
     "output_type": "stream",
     "text": [
      "addition of two number\n",
      "enter the number 1:\n",
      "enter the number 2:\n"
     ]
    }
   ],
   "source": [
    "print(\"addition of two number\")\n",
    "number1=10\n",
    "print(\"enter the number 1:\")\n",
    "number2=20\n",
    "print(\"enter the number 2:\")\n",
    "add=number1+number2"
   ]
  },
  {
   "cell_type": "code",
   "execution_count": 1,
   "id": "da764a1d-1f91-4df7-8e13-9135fbd7bc77",
   "metadata": {},
   "outputs": [
    {
     "name": "stdout",
     "output_type": "stream",
     "text": [
      "addition of two number\n",
      "enter the number 1:\n",
      "10\n",
      "enter the number 2:\n",
      "20\n",
      "the answer is : 30\n"
     ]
    }
   ],
   "source": [
    "print(\"addition of two number\")\n",
    "number1=10\n",
    "print(\"enter the number 1:\")\n",
    "print(number1)\n",
    "number2=20\n",
    "print(\"enter the number 2:\")\n",
    "print(number2)\n",
    "add=number1+number2\n",
    "print(\"the answer is :\",add)"
   ]
  },
  {
   "cell_type": "code",
   "execution_count": 16,
   "id": "b7385bbc-a990-4b40-bdcf-04c3ad41e525",
   "metadata": {},
   "outputs": [
    {
     "name": "stdout",
     "output_type": "stream",
     "text": [
      "addition of two number\n",
      "enter the number1: 10\n",
      "enter the number2: 20\n",
      "the answer is : 30\n"
     ]
    }
   ],
   "source": [
    "# alternate method\n",
    "print(\"addition of two number\")\n",
    "number1=10\n",
    "print(\"enter the number1:\",number1)\n",
    "number2=20\n",
    "print(\"enter the number2:\",number2)\n",
    "print(\"the answer is :\",number1+number2)\n"
   ]
  },
  {
   "cell_type": "code",
   "execution_count": 3,
   "id": "0ecf824c-9154-4b6c-9351-13b1782787e6",
   "metadata": {},
   "outputs": [
    {
     "name": "stdin",
     "output_type": "stream",
     "text": [
      "enter the num1: 4536.66\n",
      "enter the num2: 7343.44\n"
     ]
    },
    {
     "name": "stdout",
     "output_type": "stream",
     "text": [
      "11880.099999999999\n"
     ]
    }
   ],
   "source": [
    "## input\n",
    "num1=float(input(\"enter the num1:\"))\n",
    "num2=float(input(\"enter the num2:\"))\n",
    "add =num1+num2\n",
    "print(add)"
   ]
  },
  {
   "cell_type": "code",
   "execution_count": null,
   "id": "6e9bbf9c-bbde-48e8-ab20-2dab0e0e7d0b",
   "metadata": {},
   "outputs": [],
   "source": []
  },
  {
   "cell_type": "code",
   "execution_count": null,
   "id": "b74ef6fd-ff0f-4b19-9f8c-e45dc10bfa4e",
   "metadata": {},
   "outputs": [],
   "source": []
  }
 ],
 "metadata": {
  "kernelspec": {
   "display_name": "Python 3 (ipykernel)",
   "language": "python",
   "name": "python3"
  },
  "language_info": {
   "codemirror_mode": {
    "name": "ipython",
    "version": 3
   },
   "file_extension": ".py",
   "mimetype": "text/x-python",
   "name": "python",
   "nbconvert_exporter": "python",
   "pygments_lexer": "ipython3",
   "version": "3.13.0"
  }
 },
 "nbformat": 4,
 "nbformat_minor": 5
}
